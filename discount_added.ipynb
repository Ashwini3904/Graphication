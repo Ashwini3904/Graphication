{
  "nbformat": 4,
  "nbformat_minor": 0,
  "metadata": {
    "colab": {
      "provenance": []
    },
    "kernelspec": {
      "name": "python3",
      "display_name": "Python 3"
    },
    "language_info": {
      "name": "python"
    }
  },
  "cells": [
    {
      "cell_type": "code",
      "execution_count": null,
      "metadata": {
        "id": "jpiU-uueBf4_"
      },
      "outputs": [],
      "source": [
        "import pandas as pd\n",
        "import numpy as np\n",
        "\n",
        "# Load dataset\n",
        "df = pd.read_csv(\"preprocessed_graphication_final_v2.csv\")\n",
        "\n",
        "# Filter valid records\n",
        "df = df[(df['MSRP'] > 0) & (df['SALES'] > 0)].copy()\n",
        "\n",
        "# Simulate high discounts\n",
        "np.random.seed(42)\n",
        "df['SimulatedDiscount'] = np.random.choice([0.1, 0.2, 0.3, 0.4, 0.5], size=len(df), p=[0.1, 0.2, 0.3, 0.3, 0.1])\n",
        "\n",
        "# Apply simulated discount to create SALES\n",
        "df['SALES'] = df['MSRP'] * (1 - df['SimulatedDiscount'])\n",
        "df['Discount'] = df['SimulatedDiscount']\n",
        "df.drop('SimulatedDiscount', axis=1, inplace=True)\n",
        "\n",
        "# Estimated Cost and Profit\n",
        "df['EstimatedCost'] = df['MSRP'] * 0.6\n",
        "df['EstimatedProfit'] = df['SALES'] - df['EstimatedCost']\n",
        "\n",
        "# Classify discount level\n",
        "def classify_discount(discount):\n",
        "    if discount >= 0.4:\n",
        "        return 'Heavy'\n",
        "    elif discount >= 0.2:\n",
        "        return 'Moderate'\n",
        "    elif discount > 0:\n",
        "        return 'Light'\n",
        "    else:\n",
        "        return 'None'\n",
        "\n",
        "df['DiscountLevel'] = df['Discount'].apply(classify_discount)\n",
        "\n",
        "# Shipping delay status\n",
        "def shipping_delay_status(status):\n",
        "    if status == 'Shipped':\n",
        "        return 'On-Time'\n",
        "    elif status in ['Disputed', 'In Process']:\n",
        "        return 'At Risk'\n",
        "    elif status in ['Cancelled', 'Resolved']:\n",
        "        return 'Delayed'\n",
        "    else:\n",
        "        return 'Unknown'\n",
        "\n",
        "df['ShippingPerformance'] = df['STATUS'].apply(shipping_delay_status)\n",
        "\n",
        "# Assign shipping cost\n",
        "shipping_cost_map = {\n",
        "    'On-Time': 10,\n",
        "    'At Risk': 20,\n",
        "    'Delayed': 30,\n",
        "    'Unknown': 15\n",
        "}\n",
        "df['ShippingCost'] = df['ShippingPerformance'].map(shipping_cost_map)\n",
        "\n",
        "df.to_csv(\"final_discounted_heavy.csv\", index=False)\n",
        "print(\"✅ Final dataset with high discounts saved as 'final_discounted_heavy.csv'\")\n"
      ]
    }
  ]
}