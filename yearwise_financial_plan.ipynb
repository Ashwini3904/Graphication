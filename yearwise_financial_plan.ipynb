{
  "nbformat": 4,
  "nbformat_minor": 0,
  "metadata": {
    "colab": {
      "provenance": []
    },
    "kernelspec": {
      "name": "python3",
      "display_name": "Python 3"
    },
    "language_info": {
      "name": "python"
    }
  },
  "cells": [
    {
      "cell_type": "code",
      "execution_count": null,
      "metadata": {
        "id": "jpiU-uueBf4_"
      },
      "outputs": [],
      "source": [
        "import pandas as pd\n",
        "\n",
        "# Load the dataset\n",
        "df = pd.read_csv(\"final_discounted_heavy.csv\")\n",
        "\n",
        "# Convert ORDERDATE to datetime and extract Year\n",
        "df['ORDERDATE'] = pd.to_datetime(df['ORDERDATE'], errors='coerce')\n",
        "df['Year'] = df['ORDERDATE'].dt.year\n",
        "\n",
        "# Drop rows with invalid dates\n",
        "df = df.dropna(subset=['Year'])\n",
        "\n",
        "# Group by Year and calculate financial metrics\n",
        "yearly_summary = df.groupby('Year').agg({\n",
        "    'SALES': 'sum',\n",
        "    'EstimatedCost': 'sum',\n",
        "    'EstimatedProfit': 'sum'\n",
        "}).reset_index()\n",
        "\n",
        "# Calculate margins\n",
        "yearly_summary['GrossProfitMargin'] = (yearly_summary['EstimatedProfit'] / yearly_summary['SALES']).round(2)\n",
        "\n",
        "yearly_summary.to_excel(\"yearly_financial_statement_without_expenses.xlsx\", index=False)\n",
        "print(\"Year-wise financial statement saved as 'yearly_financial_statement_without_expenses.xlsx'\")\n"
      ]
    }
  ]
}