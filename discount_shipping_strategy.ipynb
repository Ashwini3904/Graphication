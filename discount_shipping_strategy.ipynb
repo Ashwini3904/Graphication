{
  "nbformat": 4,
  "nbformat_minor": 0,
  "metadata": {
    "colab": {
      "provenance": []
    },
    "kernelspec": {
      "name": "python3",
      "display_name": "Python 3"
    },
    "language_info": {
      "name": "python"
    }
  },
  "cells": [
    {
      "cell_type": "code",
      "execution_count": null,
      "metadata": {
        "id": "jpiU-uueBf4_"
      },
      "outputs": [],
      "source": [
        "import pandas as pd\n",
        "import numpy as np\n",
        "\n",
        "# Load data\n",
        "df = pd.read_csv(\"final_discounted_heavy.csv\")\n",
        "df['ORDERDATE'] = pd.to_datetime(df['ORDERDATE'], errors='coerce')\n",
        "df = df.dropna(subset=['ORDERDATE'])\n",
        "\n",
        "# Add Year column\n",
        "df['Year'] = df['ORDERDATE'].dt.year\n",
        "\n",
        "# Simulate Customer Tiers\n",
        "np.random.seed(42)\n",
        "df['CustomerTier'] = np.random.choice(['Gold', 'New', 'Regular'], size=len(df), p=[0.2, 0.3, 0.5])\n",
        "\n",
        "# Simulate Product Type\n",
        "df['ProductType'] = np.where(df['PRODUCTLINE'].isin(['Classic Cars', 'Vintage Cars']), 'Premium', 'Budget')\n",
        "\n",
        "# Smart Discount Strategy\n",
        "def apply_discount(row):\n",
        "    if row['CustomerTier'] == 'Gold':\n",
        "        return 0.10\n",
        "    elif row['CustomerTier'] == 'New':\n",
        "        return 0.05\n",
        "    elif row['ProductType'] == 'Premium':\n",
        "        return 0.05\n",
        "    else:\n",
        "        return 0.10\n",
        "\n",
        "df['SmartDiscount'] = df.apply(apply_discount, axis=1)\n",
        "\n",
        "# Adjust sales based on discount\n",
        "df['SmartSale'] = df['SALES'] * (1 - df['SmartDiscount'])\n",
        "\n",
        "# Smart Shipping Strategy\n",
        "df['SmartShippingFactor'] = np.where(df['CustomerTier'] == 'Gold', 1.0, 0.95)\n",
        "df['SmartCost'] = df['EstimatedCost'] * df['SmartShippingFactor']\n",
        "\n",
        "# Recalculate profit\n",
        "df['SmartProfit'] = df['SmartSale'] - df['SmartCost']\n",
        "\n",
        "# Yearly Aggregation\n",
        "summary = df.groupby('Year').agg({\n",
        "    'SmartSale': 'sum',\n",
        "    'SmartCost': 'sum',\n",
        "    'SmartProfit': 'sum'\n",
        "}).reset_index()\n",
        "\n",
        "# Margins\n",
        "summary['GrossProfitMargin'] = (summary['SmartProfit'] / summary['SmartSale']).round(2)\n",
        "\n",
        "summary.to_csv(\"Smart_Strategy_Financials.csv\", index=False)\n",
        "\n",
        "print(summary.round(2))\n"
      ]
    }
  ]
}
