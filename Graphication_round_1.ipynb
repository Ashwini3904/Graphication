{
  "nbformat": 4,
  "nbformat_minor": 0,
  "metadata": {
    "colab": {
      "provenance": []
    },
    "kernelspec": {
      "name": "python3",
      "display_name": "Python 3"
    },
    "language_info": {
      "name": "python"
    }
  },
  "cells": [
    {
      "cell_type": "code",
      "source": [
        "import pandas as pd\n",
        "import numpy as np\n",
        "import os\n",
        "from tqdm import tqdm\n",
        "\n",
        "# Load dataset\n",
        "try:\n",
        "    df = pd.read_csv(\"sales_data_sample.csv\", encoding='utf-8')\n",
        "except UnicodeDecodeError:\n",
        "    df = pd.read_csv(\"sales_data_sample.csv\", encoding='latin1')\n",
        "\n",
        "tqdm.pandas(desc=\"Processing\")\n",
        "\n",
        "# Convert ORDERDATE and drop invalid dates\n",
        "df['ORDERDATE'] = pd.to_datetime(df['ORDERDATE'], errors='coerce')\n",
        "df = df.dropna(subset=['ORDERDATE'])\n",
        "\n",
        "# Feature Engineering from time\n",
        "df['OrderWeekday'] = df['ORDERDATE'].dt.day_name()\n",
        "df['OrderWeek'] = df['ORDERDATE'].dt.isocalendar().week\n",
        "\n",
        "# Replace MONTH_ID with readable month names\n",
        "month_map = {\n",
        "    1: \"January\", 2: \"February\", 3: \"March\", 4: \"April\",\n",
        "    5: \"May\", 6: \"June\", 7: \"July\", 8: \"August\",\n",
        "    9: \"September\", 10: \"October\", 11: \"November\", 12: \"December\"\n",
        "}\n",
        "df['MONTH_ID'] = df['MONTH_ID'].map(month_map)\n",
        "df.rename(columns={'MONTH_ID': 'OrderMonth'}, inplace=True)\n",
        "\n",
        "# Add creative seasonal label\n",
        "season_map = {\n",
        "    'December': 'Festive-Winter', 'January': 'Winter', 'February': 'Chill-End',\n",
        "    'March': 'Early-Spring', 'April': 'Spring', 'May': 'Bloom',\n",
        "    'June': 'Hot-Start', 'July': 'Midsummer', 'August': 'Late-Summer',\n",
        "    'September': 'Autumn-Start', 'October': 'Fall', 'November': 'Pre-Winter'\n",
        "}\n",
        "df['CreativeSeason'] = df['OrderMonth'].map(season_map)\n",
        "\n",
        "# Handle missing values\n",
        "df['TERRITORY'] = df['TERRITORY'].fillna(\"Unassigned\")\n",
        "df['STATE'] = df['STATE'].fillna(\"Unknown\")\n",
        "df['POSTALCODE'] = df['POSTALCODE'].fillna(\"Missing\")\n",
        "\n",
        "# Merge ADDRESSLINE2 into ADDRESSLINE1 (replace ADDRESSLINE1)\n",
        "df['ADDRESSLINE2'] = df['ADDRESSLINE2'].fillna(\"\")\n",
        "df['ADDRESSLINE1'] = df['ADDRESSLINE1'] + \", \" + df['ADDRESSLINE2']\n",
        "df['ADDRESSLINE1'] = df['ADDRESSLINE1'].str.replace(\", $\", \"\", regex=True)\n",
        "df.drop(['ADDRESSLINE2'], axis=1, inplace=True)\n",
        "\n",
        "# Region grouping\n",
        "def custom_region(country):\n",
        "    regions = {\n",
        "        'Americas': ['USA', 'Canada', 'Mexico'],\n",
        "        'Europe': ['Germany', 'France', 'Italy', 'Spain', 'UK', 'Ireland'],\n",
        "        'Asia': ['Japan', 'Singapore', 'Philippines', 'India', 'China'],\n",
        "        'Oceania': ['Australia', 'New Zealand']\n",
        "    }\n",
        "    for region, countries in regions.items():\n",
        "        if country in countries:\n",
        "            return region\n",
        "    return 'Other'\n",
        "df['GeoRegion'] = df['COUNTRY'].apply(custom_region)\n",
        "\n",
        "# Product category\n",
        "df['ProductCategory'] = df['MSRP'].progress_apply(\n",
        "    lambda x: 'Premium' if x >= 100 else ('Mid-Tier' if x >= 50 else 'Budget')\n",
        ")\n",
        "\n",
        "# Customer tiering\n",
        "total_sales = df.groupby('CUSTOMERNAME')['SALES'].sum()\n",
        "df['CustomerTier'] = df['CUSTOMERNAME'].progress_apply(\n",
        "    lambda x: 'Gold' if total_sales[x] > 100000 else ('Silver' if total_sales[x] > 50000 else 'Bronze')\n",
        ")\n",
        "\n",
        "# Sales normalization\n",
        "df['SalesZScore'] = (df['SALES'] - df['SALES'].mean()) / df['SALES'].std()\n",
        "df['SalesTag'] = df['SalesZScore'].progress_apply(\n",
        "    lambda x: 'Above Average' if x > 1 else ('Below Average' if x < -1 else 'Normal')\n",
        ")\n",
        "\n",
        "# Save final preprocessed file\n",
        "filename = \"preprocessed_graphication_final_v2.csv\"\n",
        "output_path = os.path.join(os.getcwd(), filename)\n",
        "df.to_csv(output_path, index=False)\n",
        "\n",
        "print(f\"✅ Final preprocessed dataset saved at: {output_path}\")\n"
      ],
      "metadata": {
        "colab": {
          "base_uri": "https://localhost:8080/"
        },
        "id": "YnhmTyWkL_C5",
        "outputId": "5a65d1d0-6bbd-4344-f738-e81fa34fe06e"
      },
      "execution_count": null,
      "outputs": [
        {
          "output_type": "stream",
          "name": "stderr",
          "text": [
            "Processing: 100%|██████████| 1518/1518 [00:00<00:00, 403201.41it/s]\n",
            "Processing: 100%|██████████| 1518/1518 [00:00<00:00, 91011.08it/s]\n",
            "Processing: 100%|██████████| 1518/1518 [00:00<00:00, 605569.10it/s]"
          ]
        },
        {
          "output_type": "stream",
          "name": "stdout",
          "text": [
            "✅ Final preprocessed dataset saved at: /content/preprocessed_graphication_final_v2.csv\n"
          ]
        },
        {
          "output_type": "stream",
          "name": "stderr",
          "text": [
            "\n"
          ]
        }
      ]
    }
  ]
}